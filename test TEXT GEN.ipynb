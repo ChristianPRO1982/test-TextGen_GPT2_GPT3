{
 "cells": [
  {
   "cell_type": "code",
   "execution_count": 1,
   "metadata": {},
   "outputs": [
    {
     "name": "stderr",
     "output_type": "stream",
     "text": [
      "2024-09-17 11:54:43.956892: E external/local_xla/xla/stream_executor/cuda/cuda_fft.cc:485] Unable to register cuFFT factory: Attempting to register factory for plugin cuFFT when one has already been registered\n",
      "2024-09-17 11:54:44.102226: E external/local_xla/xla/stream_executor/cuda/cuda_dnn.cc:8454] Unable to register cuDNN factory: Attempting to register factory for plugin cuDNN when one has already been registered\n",
      "2024-09-17 11:54:44.142321: E external/local_xla/xla/stream_executor/cuda/cuda_blas.cc:1452] Unable to register cuBLAS factory: Attempting to register factory for plugin cuBLAS when one has already been registered\n",
      "2024-09-17 11:54:44.385100: I tensorflow/core/platform/cpu_feature_guard.cc:210] This TensorFlow binary is optimized to use available CPU instructions in performance-critical operations.\n",
      "To enable the following instructions: AVX2 FMA, in other operations, rebuild TensorFlow with the appropriate compiler flags.\n",
      "2024-09-17 11:54:47.002427: W tensorflow/compiler/tf2tensorrt/utils/py_utils.cc:38] TF-TRT Warning: Could not find TensorRT\n"
     ]
    },
    {
     "name": "stdout",
     "output_type": "stream",
     "text": [
      "2.17.0\n"
     ]
    }
   ],
   "source": [
    "import tensorflow as tf\n",
    "print(tf.__version__)"
   ]
  },
  {
   "cell_type": "code",
   "execution_count": 2,
   "metadata": {},
   "outputs": [
    {
     "name": "stderr",
     "output_type": "stream",
     "text": [
      "/home/utilisateur/Documents/IncubateConseil/test-TextGen_GPT2_GPT3/venv/lib/python3.12/site-packages/tqdm/auto.py:21: TqdmWarning: IProgress not found. Please update jupyter and ipywidgets. See https://ipywidgets.readthedocs.io/en/stable/user_install.html\n",
      "  from .autonotebook import tqdm as notebook_tqdm\n",
      "Loading checkpoint shards:  20%|██        | 1/5 [00:10<00:40, 10.23s/it]"
     ]
    }
   ],
   "source": [
    "from transformers import pipeline\n",
    "\n",
    "# Définir le prompt pour la génération de texte\n",
    "prompt = \"Ecrit moi un email en français pour inviter mon équipe à une réunion qui aura lieu lundi 23 septembre 2024 à 10h00 dans la salle blanche. L'ordre du jour est : -1. Comment résoudre le bug de la semaine dernière -2. Quelles sont les nouvelles priorités -3. Pourquoi le client BricoRigolo nous a laché ?\"\n",
    "\n",
    "# Charger le modèle de Hugging Face\n",
    "model = pipeline(model=\"mistralai/Mistral-Nemo-Instruct-2407\")\n",
    "\n",
    "# Générer du texte à partir du prompt\n",
    "output = model(prompt, truncation=True, max_length=500, do_sample=True)\n",
    "\n",
    "# Afficher le résultat\n",
    "print(output[0]['generated_text'])\n"
   ]
  }
 ],
 "metadata": {
  "kernelspec": {
   "display_name": "venv",
   "language": "python",
   "name": "python3"
  },
  "language_info": {
   "codemirror_mode": {
    "name": "ipython",
    "version": 3
   },
   "file_extension": ".py",
   "mimetype": "text/x-python",
   "name": "python",
   "nbconvert_exporter": "python",
   "pygments_lexer": "ipython3",
   "version": "3.12.3"
  }
 },
 "nbformat": 4,
 "nbformat_minor": 2
}
